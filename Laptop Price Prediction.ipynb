{
 "cells": [
  {
   "cell_type": "markdown",
   "id": "51a77de4-6f06-4ffe-8f1e-820a4fdfc226",
   "metadata": {},
   "source": [
    "Laptop Price Prediction"
   ]
  },
  {
   "cell_type": "code",
   "execution_count": 3,
   "id": "4a699610-93db-46a5-8cb9-5be887c0ef0e",
   "metadata": {},
   "outputs": [],
   "source": [
    "import pandas as pd"
   ]
  },
  {
   "cell_type": "code",
   "execution_count": 4,
   "id": "4e1d5628-d99b-4180-8d11-073173b3c7df",
   "metadata": {},
   "outputs": [
    {
     "name": "stdout",
     "output_type": "stream",
     "text": [
      "E:\\Data Science\n"
     ]
    }
   ],
   "source": [
    "cd E:\\Data Science"
   ]
  },
  {
   "cell_type": "markdown",
   "id": "611b9579-ce51-4f7c-88e0-3c61c3d55a3f",
   "metadata": {},
   "source": [
    "1. How can the dataset be imported into .ipynb code using the\n",
    "pandas library?"
   ]
  },
  {
   "cell_type": "markdown",
   "id": "eba2eeae-6d57-48f9-a3f8-6ea3a92fd747",
   "metadata": {},
   "source": [
    "It can be imported by read_csv as file is csv file."
   ]
  },
  {
   "cell_type": "code",
   "execution_count": 6,
   "id": "f1bd11c2-531e-406d-932d-7d3a57b7b73d",
   "metadata": {},
   "outputs": [],
   "source": [
    "data = pd.read_csv(\"Laptop Data.csv\")"
   ]
  },
  {
   "cell_type": "code",
   "execution_count": 7,
   "id": "d9101508-aff9-4886-bb46-2554585677ba",
   "metadata": {},
   "outputs": [
    {
     "data": {
      "text/html": [
       "<div>\n",
       "<style scoped>\n",
       "    .dataframe tbody tr th:only-of-type {\n",
       "        vertical-align: middle;\n",
       "    }\n",
       "\n",
       "    .dataframe tbody tr th {\n",
       "        vertical-align: top;\n",
       "    }\n",
       "\n",
       "    .dataframe thead th {\n",
       "        text-align: right;\n",
       "    }\n",
       "</style>\n",
       "<table border=\"1\" class=\"dataframe\">\n",
       "  <thead>\n",
       "    <tr style=\"text-align: right;\">\n",
       "      <th></th>\n",
       "      <th>Unnamed: 0</th>\n",
       "      <th>Name</th>\n",
       "      <th>Brand</th>\n",
       "      <th>Price</th>\n",
       "      <th>Rating</th>\n",
       "      <th>Processor_brand</th>\n",
       "      <th>Processor_gen</th>\n",
       "      <th>Core_per_processor</th>\n",
       "      <th>Energy_Efficient_Units</th>\n",
       "      <th>RAM_GB</th>\n",
       "      <th>RAM_type</th>\n",
       "      <th>Storage_capacity_GB</th>\n",
       "      <th>Storage_type</th>\n",
       "      <th>Graphics_brand</th>\n",
       "      <th>Display_size_inches</th>\n",
       "      <th>Horizontal_pixel</th>\n",
       "      <th>Vertical_pixel</th>\n",
       "      <th>Touch_screen</th>\n",
       "      <th>Operating_system</th>\n",
       "    </tr>\n",
       "  </thead>\n",
       "  <tbody>\n",
       "    <tr>\n",
       "      <th>0</th>\n",
       "      <td>0</td>\n",
       "      <td>HP Victus 15-fb0157AX Gaming Laptop (AMD Ryzen...</td>\n",
       "      <td>HP</td>\n",
       "      <td>50399</td>\n",
       "      <td>4.30</td>\n",
       "      <td>AMD</td>\n",
       "      <td>5.0</td>\n",
       "      <td>6.0</td>\n",
       "      <td>0</td>\n",
       "      <td>8</td>\n",
       "      <td>DDR4</td>\n",
       "      <td>512</td>\n",
       "      <td>SSD</td>\n",
       "      <td>AMD</td>\n",
       "      <td>15.6</td>\n",
       "      <td>1920</td>\n",
       "      <td>1080</td>\n",
       "      <td>True</td>\n",
       "      <td>Windows 11 OS</td>\n",
       "    </tr>\n",
       "    <tr>\n",
       "      <th>1</th>\n",
       "      <td>1</td>\n",
       "      <td>Lenovo V15 G4 ‎82YU00W7IN Laptop (AMD Ryzen 3 ...</td>\n",
       "      <td>Lenovo</td>\n",
       "      <td>26690</td>\n",
       "      <td>4.45</td>\n",
       "      <td>AMD</td>\n",
       "      <td>7.0</td>\n",
       "      <td>4.0</td>\n",
       "      <td>0</td>\n",
       "      <td>8</td>\n",
       "      <td>LPDDR5</td>\n",
       "      <td>512</td>\n",
       "      <td>SSD</td>\n",
       "      <td>AMD</td>\n",
       "      <td>15.6</td>\n",
       "      <td>1920</td>\n",
       "      <td>1080</td>\n",
       "      <td>False</td>\n",
       "      <td>Windows 11 OS</td>\n",
       "    </tr>\n",
       "    <tr>\n",
       "      <th>2</th>\n",
       "      <td>2</td>\n",
       "      <td>HP 15s-fq5007TU Laptop (12th Gen Core i3/ 8GB/...</td>\n",
       "      <td>HP</td>\n",
       "      <td>37012</td>\n",
       "      <td>4.65</td>\n",
       "      <td>Intel</td>\n",
       "      <td>12.0</td>\n",
       "      <td>6.0</td>\n",
       "      <td>0</td>\n",
       "      <td>8</td>\n",
       "      <td>DDR4</td>\n",
       "      <td>512</td>\n",
       "      <td>SSD</td>\n",
       "      <td>Intel</td>\n",
       "      <td>15.6</td>\n",
       "      <td>1920</td>\n",
       "      <td>1080</td>\n",
       "      <td>False</td>\n",
       "      <td>Windows 11 OS</td>\n",
       "    </tr>\n",
       "    <tr>\n",
       "      <th>3</th>\n",
       "      <td>3</td>\n",
       "      <td>Samsung Galaxy Book2 Pro 13 Laptop (12th Gen C...</td>\n",
       "      <td>Samsung</td>\n",
       "      <td>69990</td>\n",
       "      <td>4.75</td>\n",
       "      <td>Intel</td>\n",
       "      <td>12.0</td>\n",
       "      <td>12.0</td>\n",
       "      <td>0</td>\n",
       "      <td>16</td>\n",
       "      <td>LPDDR5</td>\n",
       "      <td>512</td>\n",
       "      <td>SSD</td>\n",
       "      <td>Intel</td>\n",
       "      <td>13.3</td>\n",
       "      <td>1080</td>\n",
       "      <td>1920</td>\n",
       "      <td>False</td>\n",
       "      <td>Windows 11 OS</td>\n",
       "    </tr>\n",
       "    <tr>\n",
       "      <th>4</th>\n",
       "      <td>4</td>\n",
       "      <td>Tecno Megabook T1 Laptop (11th Gen Core i3/ 8G...</td>\n",
       "      <td>Tecno</td>\n",
       "      <td>23990</td>\n",
       "      <td>4.25</td>\n",
       "      <td>Intel</td>\n",
       "      <td>11.0</td>\n",
       "      <td>2.0</td>\n",
       "      <td>0</td>\n",
       "      <td>8</td>\n",
       "      <td>LPDDR4</td>\n",
       "      <td>512</td>\n",
       "      <td>SSD</td>\n",
       "      <td>Intel</td>\n",
       "      <td>15.6</td>\n",
       "      <td>1920</td>\n",
       "      <td>1080</td>\n",
       "      <td>False</td>\n",
       "      <td>Windows 11 OS</td>\n",
       "    </tr>\n",
       "  </tbody>\n",
       "</table>\n",
       "</div>"
      ],
      "text/plain": [
       "   Unnamed: 0                                               Name    Brand  \\\n",
       "0           0  HP Victus 15-fb0157AX Gaming Laptop (AMD Ryzen...       HP   \n",
       "1           1  Lenovo V15 G4 ‎82YU00W7IN Laptop (AMD Ryzen 3 ...   Lenovo   \n",
       "2           2  HP 15s-fq5007TU Laptop (12th Gen Core i3/ 8GB/...       HP   \n",
       "3           3  Samsung Galaxy Book2 Pro 13 Laptop (12th Gen C...  Samsung   \n",
       "4           4  Tecno Megabook T1 Laptop (11th Gen Core i3/ 8G...    Tecno   \n",
       "\n",
       "   Price  Rating Processor_brand  Processor_gen  Core_per_processor  \\\n",
       "0  50399    4.30             AMD            5.0                 6.0   \n",
       "1  26690    4.45             AMD            7.0                 4.0   \n",
       "2  37012    4.65           Intel           12.0                 6.0   \n",
       "3  69990    4.75           Intel           12.0                12.0   \n",
       "4  23990    4.25           Intel           11.0                 2.0   \n",
       "\n",
       "   Energy_Efficient_Units  RAM_GB RAM_type  Storage_capacity_GB Storage_type  \\\n",
       "0                       0       8     DDR4                  512          SSD   \n",
       "1                       0       8   LPDDR5                  512          SSD   \n",
       "2                       0       8     DDR4                  512          SSD   \n",
       "3                       0      16   LPDDR5                  512          SSD   \n",
       "4                       0       8   LPDDR4                  512          SSD   \n",
       "\n",
       "  Graphics_brand  Display_size_inches  Horizontal_pixel  Vertical_pixel  \\\n",
       "0            AMD                 15.6              1920            1080   \n",
       "1            AMD                 15.6              1920            1080   \n",
       "2          Intel                 15.6              1920            1080   \n",
       "3          Intel                 13.3              1080            1920   \n",
       "4          Intel                 15.6              1920            1080   \n",
       "\n",
       "   Touch_screen Operating_system  \n",
       "0          True    Windows 11 OS  \n",
       "1         False    Windows 11 OS  \n",
       "2         False    Windows 11 OS  \n",
       "3         False    Windows 11 OS  \n",
       "4         False    Windows 11 OS  "
      ]
     },
     "execution_count": 7,
     "metadata": {},
     "output_type": "execute_result"
    }
   ],
   "source": [
    "data.head()"
   ]
  },
  {
   "cell_type": "markdown",
   "id": "6b6570c0-c865-4066-b788-ec1e762a36f3",
   "metadata": {},
   "source": [
    "2. Considering the nature of the dataset, would it be more\n",
    "suitable to employ Supervised or Unsupervised Machine\n",
    "Learning techniques?"
   ]
  },
  {
   "cell_type": "markdown",
   "id": "f6509c62-6e32-4a53-b381-b83e82be085a",
   "metadata": {},
   "source": [
    "--> Supervised Machine Learning as we are Predicting the price of the laptop which is measure value."
   ]
  },
  {
   "cell_type": "markdown",
   "id": "1d532790-24f5-4307-8ea9-ad619f0153e0",
   "metadata": {},
   "source": [
    "3. If Supervised learning is deemed appropriate, what type of\n",
    "problem statement does it represent - Regression or\n",
    "Classification?"
   ]
  },
  {
   "cell_type": "markdown",
   "id": "2c6616fd-c207-401a-8087-6a1bf70b293a",
   "metadata": {},
   "source": [
    "--->It Represents Regression type of problem statement as the price prediction is Countinuous data."
   ]
  },
  {
   "cell_type": "markdown",
   "id": "024b6bcd-3dbe-4aa8-bf52-b822a6568ccd",
   "metadata": {},
   "source": [
    "4. What methods can be employed to assess the quality of the\n",
    "data, including its shape and data types?"
   ]
  },
  {
   "cell_type": "markdown",
   "id": "f23f3ee6-9133-4e94-9ca1-2e00e6360f40",
   "metadata": {},
   "source": [
    "--->we can apply describe, info, shape, etc. methods to assess the data types"
   ]
  },
  {
   "cell_type": "code",
   "execution_count": 8,
   "id": "2221e2c0-9ad6-4ae1-932a-9ebcfb0babd6",
   "metadata": {},
   "outputs": [
    {
     "data": {
      "text/html": [
       "<div>\n",
       "<style scoped>\n",
       "    .dataframe tbody tr th:only-of-type {\n",
       "        vertical-align: middle;\n",
       "    }\n",
       "\n",
       "    .dataframe tbody tr th {\n",
       "        vertical-align: top;\n",
       "    }\n",
       "\n",
       "    .dataframe thead th {\n",
       "        text-align: right;\n",
       "    }\n",
       "</style>\n",
       "<table border=\"1\" class=\"dataframe\">\n",
       "  <thead>\n",
       "    <tr style=\"text-align: right;\">\n",
       "      <th></th>\n",
       "      <th>Unnamed: 0</th>\n",
       "      <th>Price</th>\n",
       "      <th>Rating</th>\n",
       "      <th>Processor_gen</th>\n",
       "      <th>Core_per_processor</th>\n",
       "      <th>Energy_Efficient_Units</th>\n",
       "      <th>RAM_GB</th>\n",
       "      <th>Storage_capacity_GB</th>\n",
       "      <th>Display_size_inches</th>\n",
       "      <th>Horizontal_pixel</th>\n",
       "      <th>Vertical_pixel</th>\n",
       "    </tr>\n",
       "  </thead>\n",
       "  <tbody>\n",
       "    <tr>\n",
       "      <th>count</th>\n",
       "      <td>1020.000000</td>\n",
       "      <td>1020.000000</td>\n",
       "      <td>1020.000000</td>\n",
       "      <td>891.000000</td>\n",
       "      <td>1008.000000</td>\n",
       "      <td>1020.000000</td>\n",
       "      <td>1020.000000</td>\n",
       "      <td>1020.000000</td>\n",
       "      <td>1020.000000</td>\n",
       "      <td>1020.000000</td>\n",
       "      <td>1020.000000</td>\n",
       "    </tr>\n",
       "    <tr>\n",
       "      <th>mean</th>\n",
       "      <td>509.500000</td>\n",
       "      <td>82063.474510</td>\n",
       "      <td>4.373676</td>\n",
       "      <td>10.450056</td>\n",
       "      <td>8.572421</td>\n",
       "      <td>0.043137</td>\n",
       "      <td>13.992157</td>\n",
       "      <td>627.733333</td>\n",
       "      <td>15.163775</td>\n",
       "      <td>2035.512745</td>\n",
       "      <td>1214.019608</td>\n",
       "    </tr>\n",
       "    <tr>\n",
       "      <th>std</th>\n",
       "      <td>294.592939</td>\n",
       "      <td>66502.150607</td>\n",
       "      <td>0.233295</td>\n",
       "      <td>2.966579</td>\n",
       "      <td>4.375012</td>\n",
       "      <td>0.203266</td>\n",
       "      <td>7.189564</td>\n",
       "      <td>316.911679</td>\n",
       "      <td>1.001537</td>\n",
       "      <td>409.209289</td>\n",
       "      <td>306.863086</td>\n",
       "    </tr>\n",
       "    <tr>\n",
       "      <th>min</th>\n",
       "      <td>0.000000</td>\n",
       "      <td>8000.000000</td>\n",
       "      <td>3.950000</td>\n",
       "      <td>1.000000</td>\n",
       "      <td>2.000000</td>\n",
       "      <td>0.000000</td>\n",
       "      <td>2.000000</td>\n",
       "      <td>32.000000</td>\n",
       "      <td>11.600000</td>\n",
       "      <td>1080.000000</td>\n",
       "      <td>768.000000</td>\n",
       "    </tr>\n",
       "    <tr>\n",
       "      <th>25%</th>\n",
       "      <td>254.750000</td>\n",
       "      <td>43990.000000</td>\n",
       "      <td>4.200000</td>\n",
       "      <td>7.000000</td>\n",
       "      <td>6.000000</td>\n",
       "      <td>0.000000</td>\n",
       "      <td>8.000000</td>\n",
       "      <td>512.000000</td>\n",
       "      <td>14.000000</td>\n",
       "      <td>1920.000000</td>\n",
       "      <td>1080.000000</td>\n",
       "    </tr>\n",
       "    <tr>\n",
       "      <th>50%</th>\n",
       "      <td>509.500000</td>\n",
       "      <td>63689.500000</td>\n",
       "      <td>4.350000</td>\n",
       "      <td>12.000000</td>\n",
       "      <td>8.000000</td>\n",
       "      <td>0.000000</td>\n",
       "      <td>16.000000</td>\n",
       "      <td>512.000000</td>\n",
       "      <td>15.600000</td>\n",
       "      <td>1920.000000</td>\n",
       "      <td>1080.000000</td>\n",
       "    </tr>\n",
       "    <tr>\n",
       "      <th>75%</th>\n",
       "      <td>764.250000</td>\n",
       "      <td>94990.000000</td>\n",
       "      <td>4.550000</td>\n",
       "      <td>13.000000</td>\n",
       "      <td>10.000000</td>\n",
       "      <td>0.000000</td>\n",
       "      <td>16.000000</td>\n",
       "      <td>512.000000</td>\n",
       "      <td>15.600000</td>\n",
       "      <td>1920.000000</td>\n",
       "      <td>1200.000000</td>\n",
       "    </tr>\n",
       "    <tr>\n",
       "      <th>max</th>\n",
       "      <td>1019.000000</td>\n",
       "      <td>599990.000000</td>\n",
       "      <td>4.750000</td>\n",
       "      <td>14.000000</td>\n",
       "      <td>24.000000</td>\n",
       "      <td>1.000000</td>\n",
       "      <td>64.000000</td>\n",
       "      <td>4000.000000</td>\n",
       "      <td>18.000000</td>\n",
       "      <td>3840.000000</td>\n",
       "      <td>2560.000000</td>\n",
       "    </tr>\n",
       "  </tbody>\n",
       "</table>\n",
       "</div>"
      ],
      "text/plain": [
       "        Unnamed: 0          Price       Rating  Processor_gen  \\\n",
       "count  1020.000000    1020.000000  1020.000000     891.000000   \n",
       "mean    509.500000   82063.474510     4.373676      10.450056   \n",
       "std     294.592939   66502.150607     0.233295       2.966579   \n",
       "min       0.000000    8000.000000     3.950000       1.000000   \n",
       "25%     254.750000   43990.000000     4.200000       7.000000   \n",
       "50%     509.500000   63689.500000     4.350000      12.000000   \n",
       "75%     764.250000   94990.000000     4.550000      13.000000   \n",
       "max    1019.000000  599990.000000     4.750000      14.000000   \n",
       "\n",
       "       Core_per_processor  Energy_Efficient_Units       RAM_GB  \\\n",
       "count         1008.000000             1020.000000  1020.000000   \n",
       "mean             8.572421                0.043137    13.992157   \n",
       "std              4.375012                0.203266     7.189564   \n",
       "min              2.000000                0.000000     2.000000   \n",
       "25%              6.000000                0.000000     8.000000   \n",
       "50%              8.000000                0.000000    16.000000   \n",
       "75%             10.000000                0.000000    16.000000   \n",
       "max             24.000000                1.000000    64.000000   \n",
       "\n",
       "       Storage_capacity_GB  Display_size_inches  Horizontal_pixel  \\\n",
       "count          1020.000000          1020.000000       1020.000000   \n",
       "mean            627.733333            15.163775       2035.512745   \n",
       "std             316.911679             1.001537        409.209289   \n",
       "min              32.000000            11.600000       1080.000000   \n",
       "25%             512.000000            14.000000       1920.000000   \n",
       "50%             512.000000            15.600000       1920.000000   \n",
       "75%             512.000000            15.600000       1920.000000   \n",
       "max            4000.000000            18.000000       3840.000000   \n",
       "\n",
       "       Vertical_pixel  \n",
       "count     1020.000000  \n",
       "mean      1214.019608  \n",
       "std        306.863086  \n",
       "min        768.000000  \n",
       "25%       1080.000000  \n",
       "50%       1080.000000  \n",
       "75%       1200.000000  \n",
       "max       2560.000000  "
      ]
     },
     "execution_count": 8,
     "metadata": {},
     "output_type": "execute_result"
    }
   ],
   "source": [
    "data.describe()"
   ]
  },
  {
   "cell_type": "code",
   "execution_count": 9,
   "id": "58da216a-db75-4341-a679-0660498dbfef",
   "metadata": {},
   "outputs": [
    {
     "name": "stdout",
     "output_type": "stream",
     "text": [
      "<class 'pandas.core.frame.DataFrame'>\n",
      "RangeIndex: 1020 entries, 0 to 1019\n",
      "Data columns (total 19 columns):\n",
      " #   Column                  Non-Null Count  Dtype  \n",
      "---  ------                  --------------  -----  \n",
      " 0   Unnamed: 0              1020 non-null   int64  \n",
      " 1   Name                    1020 non-null   object \n",
      " 2   Brand                   1020 non-null   object \n",
      " 3   Price                   1020 non-null   int64  \n",
      " 4   Rating                  1020 non-null   float64\n",
      " 5   Processor_brand         1020 non-null   object \n",
      " 6   Processor_gen           891 non-null    float64\n",
      " 7   Core_per_processor      1008 non-null   float64\n",
      " 8   Energy_Efficient_Units  1020 non-null   int64  \n",
      " 9   RAM_GB                  1020 non-null   int64  \n",
      " 10  RAM_type                998 non-null    object \n",
      " 11  Storage_capacity_GB     1020 non-null   int64  \n",
      " 12  Storage_type            1020 non-null   object \n",
      " 13  Graphics_brand          1018 non-null   object \n",
      " 14  Display_size_inches     1020 non-null   float64\n",
      " 15  Horizontal_pixel        1020 non-null   int64  \n",
      " 16  Vertical_pixel          1020 non-null   int64  \n",
      " 17  Touch_screen            1020 non-null   bool   \n",
      " 18  Operating_system        1020 non-null   object \n",
      "dtypes: bool(1), float64(4), int64(7), object(7)\n",
      "memory usage: 144.6+ KB\n"
     ]
    }
   ],
   "source": [
    "data.info()"
   ]
  },
  {
   "cell_type": "code",
   "execution_count": 11,
   "id": "9d2e8986-564e-4f65-85e3-d566614d0ef0",
   "metadata": {},
   "outputs": [
    {
     "data": {
      "text/plain": [
       "(1020, 19)"
      ]
     },
     "execution_count": 11,
     "metadata": {},
     "output_type": "execute_result"
    }
   ],
   "source": [
    "data.shape"
   ]
  },
  {
   "cell_type": "markdown",
   "id": "a79a74fd-fad6-4e96-b050-59b325c14267",
   "metadata": {},
   "source": [
    "5. How can null values within the dataset be identified and\n",
    "handled effectively?"
   ]
  },
  {
   "cell_type": "markdown",
   "id": "718bbdc5-e623-4803-872d-d9d4e61d7b75",
   "metadata": {},
   "source": [
    "--> With the help of isnull and sum methods or info methods we can identify null values"
   ]
  },
  {
   "cell_type": "code",
   "execution_count": 12,
   "id": "46aa17ad-bf94-4169-b75b-aea800736fd4",
   "metadata": {},
   "outputs": [
    {
     "data": {
      "text/plain": [
       "Unnamed: 0                  0\n",
       "Name                        0\n",
       "Brand                       0\n",
       "Price                       0\n",
       "Rating                      0\n",
       "Processor_brand             0\n",
       "Processor_gen             129\n",
       "Core_per_processor         12\n",
       "Energy_Efficient_Units      0\n",
       "RAM_GB                      0\n",
       "RAM_type                   22\n",
       "Storage_capacity_GB         0\n",
       "Storage_type                0\n",
       "Graphics_brand              2\n",
       "Display_size_inches         0\n",
       "Horizontal_pixel            0\n",
       "Vertical_pixel              0\n",
       "Touch_screen                0\n",
       "Operating_system            0\n",
       "dtype: int64"
      ]
     },
     "execution_count": 12,
     "metadata": {},
     "output_type": "execute_result"
    }
   ],
   "source": [
    "data.isnull().sum()"
   ]
  },
  {
   "cell_type": "markdown",
   "id": "5cb819f8-d80e-4d05-a0f5-f3e711349152",
   "metadata": {},
   "source": [
    "-->As we can see we are having null values in four columns."
   ]
  },
  {
   "cell_type": "code",
   "execution_count": 15,
   "id": "02f0ba04-7825-437f-aa13-fc76df70e018",
   "metadata": {},
   "outputs": [
    {
     "data": {
      "text/plain": [
       "array([ 5.,  7., 12., 11., 14., nan, 13.,  6.,  3.,  8., 10.,  1.,  9.,\n",
       "        4.])"
      ]
     },
     "execution_count": 15,
     "metadata": {},
     "output_type": "execute_result"
    }
   ],
   "source": [
    "data['Processor_gen'].unique()"
   ]
  },
  {
   "cell_type": "code",
   "execution_count": 16,
   "id": "ade11e71-d260-4831-99f0-0ca58df615e9",
   "metadata": {},
   "outputs": [
    {
     "data": {
      "text/plain": [
       "array([ 6.,  4., 12.,  2., 10., 24.,  8., 16., 14., 20., nan, 11.,  5.])"
      ]
     },
     "execution_count": 16,
     "metadata": {},
     "output_type": "execute_result"
    }
   ],
   "source": [
    "data['Core_per_processor'].unique()"
   ]
  },
  {
   "cell_type": "code",
   "execution_count": 18,
   "id": "c3fb4c46-99f7-4453-9a10-12ae13ad5274",
   "metadata": {},
   "outputs": [
    {
     "data": {
      "text/plain": [
       "array(['DDR4', 'LPDDR5', 'LPDDR4', 'DDR5', nan, 'LPDDR4X', 'LPDDR5X',\n",
       "       'Unified', 'DDR3', 'LPDDRX4', 'DDR6', 'LPDDR3', 'PDDR5X'],\n",
       "      dtype=object)"
      ]
     },
     "execution_count": 18,
     "metadata": {},
     "output_type": "execute_result"
    }
   ],
   "source": [
    "data['RAM_type'].unique()"
   ]
  },
  {
   "cell_type": "code",
   "execution_count": 19,
   "id": "02f3fc3f-ffab-46d9-a404-37e4cde289a3",
   "metadata": {},
   "outputs": [
    {
     "data": {
      "text/plain": [
       "array(['AMD', 'Intel', 'NVIDIA', 'Apple', 'ARM', 'Adreno', 'Radeon', nan],\n",
       "      dtype=object)"
      ]
     },
     "execution_count": 19,
     "metadata": {},
     "output_type": "execute_result"
    }
   ],
   "source": [
    "data['Graphics_brand'].unique()"
   ]
  },
  {
   "cell_type": "markdown",
   "id": "226cbcfb-f566-49f6-8c0f-5340b1ede0ca",
   "metadata": {},
   "source": [
    "-->here for replacing the null value we are using mode value as considering the most frequent value"
   ]
  },
  {
   "cell_type": "code",
   "execution_count": 21,
   "id": "e520b1d3-9728-4aef-a1e6-4efa3e78a2ed",
   "metadata": {},
   "outputs": [],
   "source": [
    "data['Processor_gen'].fillna(data['Processor_gen'].mode()[0], inplace=True)\n",
    "data['Core_per_processor'].fillna(data['Core_per_processor'].mode()[0], inplace=True)\n",
    "data['RAM_type'].fillna(data['RAM_type'].mode()[0], inplace=True)\n",
    "data['Graphics_brand'].fillna(data['Graphics_brand'].mode()[0], inplace=True)"
   ]
  },
  {
   "cell_type": "code",
   "execution_count": 22,
   "id": "747ee5ed-5baf-4a90-8fbe-31bd3a360e7b",
   "metadata": {},
   "outputs": [
    {
     "data": {
      "text/plain": [
       "Unnamed: 0                0\n",
       "Name                      0\n",
       "Brand                     0\n",
       "Price                     0\n",
       "Rating                    0\n",
       "Processor_brand           0\n",
       "Processor_gen             0\n",
       "Core_per_processor        0\n",
       "Energy_Efficient_Units    0\n",
       "RAM_GB                    0\n",
       "RAM_type                  0\n",
       "Storage_capacity_GB       0\n",
       "Storage_type              0\n",
       "Graphics_brand            0\n",
       "Display_size_inches       0\n",
       "Horizontal_pixel          0\n",
       "Vertical_pixel            0\n",
       "Touch_screen              0\n",
       "Operating_system          0\n",
       "dtype: int64"
      ]
     },
     "execution_count": 22,
     "metadata": {},
     "output_type": "execute_result"
    }
   ],
   "source": [
    "data.isnull().sum()"
   ]
  },
  {
   "cell_type": "markdown",
   "id": "1e3cbced-bb8a-45bb-aaee-752e99d7f466",
   "metadata": {},
   "source": [
    "6. Appropriate form of analysis should be presented and\n",
    "descripted in form of comments headings and analysis?"
   ]
  },
  {
   "cell_type": "markdown",
   "id": "842d094d-56a5-4736-8afe-17e9c879cbb5",
   "metadata": {},
   "source": [
    "-->We can use various graphs to analyse the data"
   ]
  },
  {
   "cell_type": "code",
   "execution_count": 23,
   "id": "83a0c26b-447f-4c58-9dd9-798efc9ac54b",
   "metadata": {},
   "outputs": [],
   "source": [
    "import matplotlib.pyplot as plt\n",
    "import seaborn as sns"
   ]
  },
  {
   "cell_type": "markdown",
   "id": "c635090a-d128-40a6-bc32-634c0fcd6167",
   "metadata": {},
   "source": [
    "--> we can plot line chart of price and ram "
   ]
  },
  {
   "cell_type": "code",
   "execution_count": 33,
   "id": "6e30b85e-70ba-477b-92d9-629fb21b9884",
   "metadata": {},
   "outputs": [
    {
     "data": {
      "image/png": "[encoded data removed]",
      "text/plain": [
       "<Figure size 1000x800 with 1 Axes>"
      ]
     },
     "metadata": {},
     "output_type": "display_data"
    }
   ],
   "source": [
    "plt.figure(figsize=(10, 8))\n",
    "plt.scatter(data['RAM_GB'],data['Price'], color=\"r\")\n",
    "plt.title('Price vs Ram')\n",
    "plt.xlabel('ram')\n",
    "plt.ylabel('price')\n",
    "plt.show()"
   ]
  },
  {
   "cell_type": "markdown",
   "id": "6ce7e204-f0f0-44c6-b9db-a3d38416f98d",
   "metadata": {},
   "source": [
    "-->we can check no of laptops in particular price range by ploting histogram"
   ]
  },
  {
   "cell_type": "code",
   "execution_count": 27,
   "id": "cc4a4806-5e18-439f-bac0-cba482a9fc64",
   "metadata": {},
   "outputs": [
    {
     "name": "stderr",
     "output_type": "stream",
     "text": [
      "C:\\ProgramData\\anaconda3\\Lib\\site-packages\\seaborn\\_oldcore.py:1119: FutureWarning: use_inf_as_na option is deprecated and will be removed in a future version. Convert inf values to NaN before operating instead.\n",
      "  with pd.option_context('mode.use_inf_as_na', True):\n"
     ]
    },
    {
     "data": {
      "image/png": "[encoded data removed]",
      "text/plain": [
       "<Figure size 1000x800 with 1 Axes>"
      ]
     },
     "metadata": {},
     "output_type": "display_data"
    }
   ],
   "source": [
    "plt.figure(figsize=(10, 8))\n",
    "sns.histplot(data['Price'], bins=25, color='blue')\n",
    "plt.title('Histogram of Laptop Price')\n",
    "plt.xlabel('Price')\n",
    "plt.ylabel('No of laptops')\n",
    "plt.show()"
   ]
  },
  {
   "cell_type": "markdown",
   "id": "4bda1363-cf23-4243-b206-7641e79a7e8b",
   "metadata": {},
   "source": [
    "7. What techniques can be utilized to detect and eliminate any\n",
    "outliers present in the dataset?"
   ]
  },
  {
   "cell_type": "code",
   "execution_count": 34,
   "id": "a27dedaf-5985-4e52-9f7b-5ffbd1358d5f",
   "metadata": {},
   "outputs": [],
   "source": [
    "import numpy as np"
   ]
  },
  {
   "cell_type": "markdown",
   "id": "1ef11016-bb79-43b2-88ac-56b368210f14",
   "metadata": {},
   "source": [
    "We can draw Box Plot to detect the Outliers and we can use Quartile, z- score or boundary methods to eliminate Outliers."
   ]
  },
  {
   "cell_type": "markdown",
   "id": "b0e5bc7d-9dbe-49fa-b7c3-eae8a53e7fe7",
   "metadata": {},
   "source": [
    "Here we are using Quartile Method"
   ]
  },
  {
   "cell_type": "code",
   "execution_count": 41,
   "id": "62b46b50-9ce8-40c1-941c-000a2bc298a1",
   "metadata": {},
   "outputs": [
    {
     "data": {
      "image/png": "[encoded data removed]",
      "text/plain": [
       "<Figure size 1000x800 with 1 Axes>"
      ]
     },
     "metadata": {},
     "output_type": "display_data"
    }
   ],
   "source": [
    "plt.figure(figsize=(10, 8))\n",
    "sns.boxplot(y=data['Price'])\n",
    "plt.title(\"Box Plot\")\n",
    "plt.show()"
   ]
  },
  {
   "cell_type": "code",
   "execution_count": 42,
   "id": "ae692050-3686-4a1d-a945-1f6d69c33002",
   "metadata": {},
   "outputs": [
    {
     "data": {
      "text/html": [
       "<div>\n",
       "<style scoped>\n",
       "    .dataframe tbody tr th:only-of-type {\n",
       "        vertical-align: middle;\n",
       "    }\n",
       "\n",
       "    .dataframe tbody tr th {\n",
       "        vertical-align: top;\n",
       "    }\n",
       "\n",
       "    .dataframe thead th {\n",
       "        text-align: right;\n",
       "    }\n",
       "</style>\n",
       "<table border=\"1\" class=\"dataframe\">\n",
       "  <thead>\n",
       "    <tr style=\"text-align: right;\">\n",
       "      <th></th>\n",
       "      <th>Unnamed: 0</th>\n",
       "      <th>Name</th>\n",
       "      <th>Brand</th>\n",
       "      <th>Price</th>\n",
       "      <th>Rating</th>\n",
       "      <th>Processor_brand</th>\n",
       "      <th>Processor_gen</th>\n",
       "      <th>Core_per_processor</th>\n",
       "      <th>Energy_Efficient_Units</th>\n",
       "      <th>RAM_GB</th>\n",
       "      <th>RAM_type</th>\n",
       "      <th>Storage_capacity_GB</th>\n",
       "      <th>Storage_type</th>\n",
       "      <th>Graphics_brand</th>\n",
       "      <th>Display_size_inches</th>\n",
       "      <th>Horizontal_pixel</th>\n",
       "      <th>Vertical_pixel</th>\n",
       "      <th>Touch_screen</th>\n",
       "      <th>Operating_system</th>\n",
       "    </tr>\n",
       "  </thead>\n",
       "  <tbody>\n",
       "    <tr>\n",
       "      <th>26</th>\n",
       "      <td>26</td>\n",
       "      <td>Samsung Galaxy Book 4 Ultra Laptop (Intel Core...</td>\n",
       "      <td>Samsung</td>\n",
       "      <td>299999</td>\n",
       "      <td>4.15</td>\n",
       "      <td>Intel</td>\n",
       "      <td>13.0</td>\n",
       "      <td>16.0</td>\n",
       "      <td>1</td>\n",
       "      <td>32</td>\n",
       "      <td>LPDDR5X</td>\n",
       "      <td>1000</td>\n",
       "      <td>SSD</td>\n",
       "      <td>NVIDIA</td>\n",
       "      <td>16.0</td>\n",
       "      <td>2880</td>\n",
       "      <td>1800</td>\n",
       "      <td>True</td>\n",
       "      <td>Windows 11 OS</td>\n",
       "    </tr>\n",
       "    <tr>\n",
       "      <th>76</th>\n",
       "      <td>76</td>\n",
       "      <td>Asus ROG Strix SCAR 16 2024 G634JYR-RA001WS Ga...</td>\n",
       "      <td>Asus</td>\n",
       "      <td>329990</td>\n",
       "      <td>4.20</td>\n",
       "      <td>Intel</td>\n",
       "      <td>14.0</td>\n",
       "      <td>24.0</td>\n",
       "      <td>0</td>\n",
       "      <td>32</td>\n",
       "      <td>DDR5</td>\n",
       "      <td>2000</td>\n",
       "      <td>SSD</td>\n",
       "      <td>NVIDIA</td>\n",
       "      <td>16.0</td>\n",
       "      <td>2560</td>\n",
       "      <td>1600</td>\n",
       "      <td>False</td>\n",
       "      <td>Windows 11 OS</td>\n",
       "    </tr>\n",
       "    <tr>\n",
       "      <th>80</th>\n",
       "      <td>80</td>\n",
       "      <td>MSI Titan 18 HX Gaming Laptop (14th Gen Core i...</td>\n",
       "      <td>MSI</td>\n",
       "      <td>599990</td>\n",
       "      <td>4.20</td>\n",
       "      <td>Intel</td>\n",
       "      <td>14.0</td>\n",
       "      <td>8.0</td>\n",
       "      <td>0</td>\n",
       "      <td>32</td>\n",
       "      <td>DDR5</td>\n",
       "      <td>2000</td>\n",
       "      <td>SSD</td>\n",
       "      <td>NVIDIA</td>\n",
       "      <td>18.0</td>\n",
       "      <td>3840</td>\n",
       "      <td>2400</td>\n",
       "      <td>False</td>\n",
       "      <td>Windows 11 OS</td>\n",
       "    </tr>\n",
       "    <tr>\n",
       "      <th>81</th>\n",
       "      <td>81</td>\n",
       "      <td>Samsung Galaxy Book 4 Pro 360 Laptop (Intel Co...</td>\n",
       "      <td>Samsung</td>\n",
       "      <td>199990</td>\n",
       "      <td>4.40</td>\n",
       "      <td>Intel</td>\n",
       "      <td>13.0</td>\n",
       "      <td>16.0</td>\n",
       "      <td>1</td>\n",
       "      <td>16</td>\n",
       "      <td>LPDDR5X</td>\n",
       "      <td>512</td>\n",
       "      <td>SSD</td>\n",
       "      <td>Intel</td>\n",
       "      <td>16.0</td>\n",
       "      <td>2880</td>\n",
       "      <td>1800</td>\n",
       "      <td>True</td>\n",
       "      <td>Windows 11 OS</td>\n",
       "    </tr>\n",
       "    <tr>\n",
       "      <th>83</th>\n",
       "      <td>83</td>\n",
       "      <td>Apple MacBook Pro 16 2023 Laptop (Apple M3 Max...</td>\n",
       "      <td>Apple</td>\n",
       "      <td>399900</td>\n",
       "      <td>4.65</td>\n",
       "      <td>Apple</td>\n",
       "      <td>13.0</td>\n",
       "      <td>16.0</td>\n",
       "      <td>0</td>\n",
       "      <td>48</td>\n",
       "      <td>DDR4</td>\n",
       "      <td>1000</td>\n",
       "      <td>SSD</td>\n",
       "      <td>Apple</td>\n",
       "      <td>16.2</td>\n",
       "      <td>3456</td>\n",
       "      <td>2234</td>\n",
       "      <td>False</td>\n",
       "      <td>Mac OS</td>\n",
       "    </tr>\n",
       "    <tr>\n",
       "      <th>...</th>\n",
       "      <td>...</td>\n",
       "      <td>...</td>\n",
       "      <td>...</td>\n",
       "      <td>...</td>\n",
       "      <td>...</td>\n",
       "      <td>...</td>\n",
       "      <td>...</td>\n",
       "      <td>...</td>\n",
       "      <td>...</td>\n",
       "      <td>...</td>\n",
       "      <td>...</td>\n",
       "      <td>...</td>\n",
       "      <td>...</td>\n",
       "      <td>...</td>\n",
       "      <td>...</td>\n",
       "      <td>...</td>\n",
       "      <td>...</td>\n",
       "      <td>...</td>\n",
       "      <td>...</td>\n",
       "    </tr>\n",
       "    <tr>\n",
       "      <th>974</th>\n",
       "      <td>974</td>\n",
       "      <td>Lenovo Legion Pro 7i 2023 Gaming Laptop (13th ...</td>\n",
       "      <td>Lenovo</td>\n",
       "      <td>286200</td>\n",
       "      <td>4.35</td>\n",
       "      <td>Intel</td>\n",
       "      <td>13.0</td>\n",
       "      <td>24.0</td>\n",
       "      <td>0</td>\n",
       "      <td>32</td>\n",
       "      <td>DDR5</td>\n",
       "      <td>1000</td>\n",
       "      <td>SSD</td>\n",
       "      <td>NVIDIA</td>\n",
       "      <td>16.0</td>\n",
       "      <td>2560</td>\n",
       "      <td>1600</td>\n",
       "      <td>False</td>\n",
       "      <td>Windows 11 OS</td>\n",
       "    </tr>\n",
       "    <tr>\n",
       "      <th>977</th>\n",
       "      <td>977</td>\n",
       "      <td>LG Gram 2 in 1 16 Laptop (13th Gen Core i5/ 8G...</td>\n",
       "      <td>LG</td>\n",
       "      <td>205000</td>\n",
       "      <td>4.45</td>\n",
       "      <td>Intel</td>\n",
       "      <td>13.0</td>\n",
       "      <td>12.0</td>\n",
       "      <td>0</td>\n",
       "      <td>8</td>\n",
       "      <td>LPDDR5</td>\n",
       "      <td>256</td>\n",
       "      <td>SSD</td>\n",
       "      <td>Intel</td>\n",
       "      <td>16.0</td>\n",
       "      <td>1600</td>\n",
       "      <td>2560</td>\n",
       "      <td>True</td>\n",
       "      <td>Windows 11 OS</td>\n",
       "    </tr>\n",
       "    <tr>\n",
       "      <th>994</th>\n",
       "      <td>994</td>\n",
       "      <td>Dell Alienware x14 R2 Gaming Laptop (13th Gen ...</td>\n",
       "      <td>Dell</td>\n",
       "      <td>199990</td>\n",
       "      <td>4.10</td>\n",
       "      <td>Intel</td>\n",
       "      <td>13.0</td>\n",
       "      <td>10.0</td>\n",
       "      <td>0</td>\n",
       "      <td>16</td>\n",
       "      <td>LPDDR5</td>\n",
       "      <td>1000</td>\n",
       "      <td>SSD</td>\n",
       "      <td>NVIDIA</td>\n",
       "      <td>14.0</td>\n",
       "      <td>2560</td>\n",
       "      <td>1600</td>\n",
       "      <td>False</td>\n",
       "      <td>Windows 11 OS</td>\n",
       "    </tr>\n",
       "    <tr>\n",
       "      <th>1015</th>\n",
       "      <td>1015</td>\n",
       "      <td>MSI Creator Z17 HX Studio A13V Laptop</td>\n",
       "      <td>MSI</td>\n",
       "      <td>247999</td>\n",
       "      <td>4.45</td>\n",
       "      <td>Intel</td>\n",
       "      <td>13.0</td>\n",
       "      <td>14.0</td>\n",
       "      <td>0</td>\n",
       "      <td>32</td>\n",
       "      <td>DDR5</td>\n",
       "      <td>1000</td>\n",
       "      <td>SSD</td>\n",
       "      <td>NVIDIA</td>\n",
       "      <td>17.0</td>\n",
       "      <td>2560</td>\n",
       "      <td>1600</td>\n",
       "      <td>False</td>\n",
       "      <td>Windows 11 OS</td>\n",
       "    </tr>\n",
       "    <tr>\n",
       "      <th>1016</th>\n",
       "      <td>1016</td>\n",
       "      <td>MSI Stealth 16 Mercedes AMG Motorsport A13V Ga...</td>\n",
       "      <td>MSI</td>\n",
       "      <td>292990</td>\n",
       "      <td>4.20</td>\n",
       "      <td>Intel</td>\n",
       "      <td>13.0</td>\n",
       "      <td>14.0</td>\n",
       "      <td>0</td>\n",
       "      <td>32</td>\n",
       "      <td>DDR5</td>\n",
       "      <td>1000</td>\n",
       "      <td>SSD</td>\n",
       "      <td>NVIDIA</td>\n",
       "      <td>16.0</td>\n",
       "      <td>3840</td>\n",
       "      <td>2400</td>\n",
       "      <td>False</td>\n",
       "      <td>Windows 11 OS</td>\n",
       "    </tr>\n",
       "  </tbody>\n",
       "</table>\n",
       "<p>78 rows × 19 columns</p>\n",
       "</div>"
      ],
      "text/plain": [
       "      Unnamed: 0                                               Name    Brand  \\\n",
       "26            26  Samsung Galaxy Book 4 Ultra Laptop (Intel Core...  Samsung   \n",
       "76            76  Asus ROG Strix SCAR 16 2024 G634JYR-RA001WS Ga...     Asus   \n",
       "80            80  MSI Titan 18 HX Gaming Laptop (14th Gen Core i...      MSI   \n",
       "81            81  Samsung Galaxy Book 4 Pro 360 Laptop (Intel Co...  Samsung   \n",
       "83            83  Apple MacBook Pro 16 2023 Laptop (Apple M3 Max...    Apple   \n",
       "...          ...                                                ...      ...   \n",
       "974          974  Lenovo Legion Pro 7i 2023 Gaming Laptop (13th ...   Lenovo   \n",
       "977          977  LG Gram 2 in 1 16 Laptop (13th Gen Core i5/ 8G...       LG   \n",
       "994          994  Dell Alienware x14 R2 Gaming Laptop (13th Gen ...     Dell   \n",
       "1015        1015              MSI Creator Z17 HX Studio A13V Laptop      MSI   \n",
       "1016        1016  MSI Stealth 16 Mercedes AMG Motorsport A13V Ga...      MSI   \n",
       "\n",
       "       Price  Rating Processor_brand  Processor_gen  Core_per_processor  \\\n",
       "26    299999    4.15           Intel           13.0                16.0   \n",
       "76    329990    4.20           Intel           14.0                24.0   \n",
       "80    599990    4.20           Intel           14.0                 8.0   \n",
       "81    199990    4.40           Intel           13.0                16.0   \n",
       "83    399900    4.65           Apple           13.0                16.0   \n",
       "...      ...     ...             ...            ...                 ...   \n",
       "974   286200    4.35           Intel           13.0                24.0   \n",
       "977   205000    4.45           Intel           13.0                12.0   \n",
       "994   199990    4.10           Intel           13.0                10.0   \n",
       "1015  247999    4.45           Intel           13.0                14.0   \n",
       "1016  292990    4.20           Intel           13.0                14.0   \n",
       "\n",
       "      Energy_Efficient_Units  RAM_GB RAM_type  Storage_capacity_GB  \\\n",
       "26                         1      32  LPDDR5X                 1000   \n",
       "76                         0      32     DDR5                 2000   \n",
       "80                         0      32     DDR5                 2000   \n",
       "81                         1      16  LPDDR5X                  512   \n",
       "83                         0      48     DDR4                 1000   \n",
       "...                      ...     ...      ...                  ...   \n",
       "974                        0      32     DDR5                 1000   \n",
       "977                        0       8   LPDDR5                  256   \n",
       "994                        0      16   LPDDR5                 1000   \n",
       "1015                       0      32     DDR5                 1000   \n",
       "1016                       0      32     DDR5                 1000   \n",
       "\n",
       "     Storage_type Graphics_brand  Display_size_inches  Horizontal_pixel  \\\n",
       "26            SSD         NVIDIA                 16.0              2880   \n",
       "76            SSD         NVIDIA                 16.0              2560   \n",
       "80            SSD         NVIDIA                 18.0              3840   \n",
       "81            SSD          Intel                 16.0              2880   \n",
       "83            SSD          Apple                 16.2              3456   \n",
       "...           ...            ...                  ...               ...   \n",
       "974           SSD         NVIDIA                 16.0              2560   \n",
       "977           SSD          Intel                 16.0              1600   \n",
       "994           SSD         NVIDIA                 14.0              2560   \n",
       "1015          SSD         NVIDIA                 17.0              2560   \n",
       "1016          SSD         NVIDIA                 16.0              3840   \n",
       "\n",
       "      Vertical_pixel  Touch_screen Operating_system  \n",
       "26              1800          True    Windows 11 OS  \n",
       "76              1600         False    Windows 11 OS  \n",
       "80              2400         False    Windows 11 OS  \n",
       "81              1800          True    Windows 11 OS  \n",
       "83              2234         False           Mac OS  \n",
       "...              ...           ...              ...  \n",
       "974             1600         False    Windows 11 OS  \n",
       "977             2560          True    Windows 11 OS  \n",
       "994             1600         False    Windows 11 OS  \n",
       "1015            1600         False    Windows 11 OS  \n",
       "1016            2400         False    Windows 11 OS  \n",
       "\n",
       "[78 rows x 19 columns]"
      ]
     },
     "execution_count": 42,
     "metadata": {},
     "output_type": "execute_result"
    }
   ],
   "source": [
    "q1 = data['Price'].quantile(0.25)\n",
    "q3 = data['Price'].quantile(0.75)\n",
    "iqr = q3 - q1\n",
    "lower_bound = q1 - 1.5 * iqr\n",
    "upper_bound = q3 + 1.5 * iqr\n",
    "data = data[(data['Price'] < lower_bound) | (data['Price'] > upper_bound)]\n",
    "data"
   ]
  },
  {
   "cell_type": "markdown",
   "id": "368ae6f5-4181-4ef0-80fe-d6f9debdcc76",
   "metadata": {},
   "source": [
    "8. In cases where categorical variables are present, how can they\n",
    "be encoded using appropriate techniques?"
   ]
  },
  {
   "cell_type": "markdown",
   "id": "5e64eacf-f8af-4f65-b530-f6957f63c101",
   "metadata": {},
   "source": [
    "we can use label encoding to encode the categorical values"
   ]
  },
  {
   "cell_type": "code",
   "execution_count": 44,
   "id": "68058ad9-6ee4-4074-baf6-36dc001644c4",
   "metadata": {},
   "outputs": [
    {
     "name": "stdout",
     "output_type": "stream",
     "text": [
      "<class 'pandas.core.frame.DataFrame'>\n",
      "Index: 78 entries, 26 to 1016\n",
      "Data columns (total 19 columns):\n",
      " #   Column                  Non-Null Count  Dtype  \n",
      "---  ------                  --------------  -----  \n",
      " 0   Unnamed: 0              78 non-null     int64  \n",
      " 1   Name                    78 non-null     object \n",
      " 2   Brand                   78 non-null     object \n",
      " 3   Price                   78 non-null     int64  \n",
      " 4   Rating                  78 non-null     float64\n",
      " 5   Processor_brand         78 non-null     object \n",
      " 6   Processor_gen           78 non-null     float64\n",
      " 7   Core_per_processor      78 non-null     float64\n",
      " 8   Energy_Efficient_Units  78 non-null     int64  \n",
      " 9   RAM_GB                  78 non-null     int64  \n",
      " 10  RAM_type                78 non-null     object \n",
      " 11  Storage_capacity_GB     78 non-null     int64  \n",
      " 12  Storage_type            78 non-null     object \n",
      " 13  Graphics_brand          78 non-null     object \n",
      " 14  Display_size_inches     78 non-null     float64\n",
      " 15  Horizontal_pixel        78 non-null     int64  \n",
      " 16  Vertical_pixel          78 non-null     int64  \n",
      " 17  Touch_screen            78 non-null     bool   \n",
      " 18  Operating_system        78 non-null     object \n",
      "dtypes: bool(1), float64(4), int64(7), object(7)\n",
      "memory usage: 11.7+ KB\n"
     ]
    }
   ],
   "source": [
    "data.info()"
   ]
  },
  {
   "cell_type": "code",
   "execution_count": 45,
   "id": "7689f4ac-2061-44e4-bc59-c91a44a93d83",
   "metadata": {},
   "outputs": [],
   "source": [
    "from sklearn.preprocessing import LabelEncoder\n",
    "enc= LabelEncoder()"
   ]
  },
  {
   "cell_type": "code",
   "execution_count": 46,
   "id": "b28bf051-774d-479e-b59c-7fa00383c007",
   "metadata": {},
   "outputs": [],
   "source": [
    "data[ ['Name', 'Brand', 'Processor_brand', 'RAM_type', 'Storage_type', 'Graphics_brand', 'Operating_system']]=data[ ['Name', 'Brand', 'Processor_brand', 'RAM_type', 'Storage_type', 'Graphics_brand', 'Operating_system']].apply(enc.fit_transform)"
   ]
  },
  {
   "cell_type": "code",
   "execution_count": 47,
   "id": "92d1fdca-f3ec-4bbe-bc6a-d580b1b1d4e7",
   "metadata": {},
   "outputs": [
    {
     "name": "stdout",
     "output_type": "stream",
     "text": [
      "<class 'pandas.core.frame.DataFrame'>\n",
      "Index: 78 entries, 26 to 1016\n",
      "Data columns (total 19 columns):\n",
      " #   Column                  Non-Null Count  Dtype  \n",
      "---  ------                  --------------  -----  \n",
      " 0   Unnamed: 0              78 non-null     int64  \n",
      " 1   Name                    78 non-null     int32  \n",
      " 2   Brand                   78 non-null     int32  \n",
      " 3   Price                   78 non-null     int64  \n",
      " 4   Rating                  78 non-null     float64\n",
      " 5   Processor_brand         78 non-null     int32  \n",
      " 6   Processor_gen           78 non-null     float64\n",
      " 7   Core_per_processor      78 non-null     float64\n",
      " 8   Energy_Efficient_Units  78 non-null     int64  \n",
      " 9   RAM_GB                  78 non-null     int64  \n",
      " 10  RAM_type                78 non-null     int32  \n",
      " 11  Storage_capacity_GB     78 non-null     int64  \n",
      " 12  Storage_type            78 non-null     int32  \n",
      " 13  Graphics_brand          78 non-null     int32  \n",
      " 14  Display_size_inches     78 non-null     float64\n",
      " 15  Horizontal_pixel        78 non-null     int64  \n",
      " 16  Vertical_pixel          78 non-null     int64  \n",
      " 17  Touch_screen            78 non-null     bool   \n",
      " 18  Operating_system        78 non-null     int32  \n",
      "dtypes: bool(1), float64(4), int32(7), int64(7)\n",
      "memory usage: 9.5 KB\n"
     ]
    }
   ],
   "source": [
    "data.info()"
   ]
  },
  {
   "cell_type": "markdown",
   "id": "3684a0c1-9d80-4a97-afd0-e9b82acc2e5a",
   "metadata": {},
   "source": [
    "9. When necessary, how can the data be scaled using appropriate\n",
    "scaling techniques?"
   ]
  },
  {
   "cell_type": "markdown",
   "id": "ad8d4227-f6f1-4c6c-88b8-35b7ec7c7552",
   "metadata": {},
   "source": [
    "we can use standerd scalers methods to scale the value"
   ]
  },
  {
   "cell_type": "markdown",
   "id": "6c4a5bce-00b6-46ab-870e-5805b8889699",
   "metadata": {},
   "source": [
    "Here I am doing it after dividing the data"
   ]
  },
  {
   "cell_type": "markdown",
   "id": "829895a6-f9f1-49f5-b854-0fa4cc2e9fde",
   "metadata": {},
   "source": [
    "10. How can the dataset be divided into predictors and target\n",
    "variables?"
   ]
  },
  {
   "cell_type": "code",
   "execution_count": 52,
   "id": "70f807a4-dbb1-4794-bb13-dc34002c7eb4",
   "metadata": {},
   "outputs": [],
   "source": [
    "data = data.drop(\"Unnamed: 0\",axis=1)"
   ]
  },
  {
   "cell_type": "code",
   "execution_count": 54,
   "id": "e45a508d-e22f-4e6f-9aad-94e8dba8d3ef",
   "metadata": {},
   "outputs": [],
   "source": [
    "x = data.drop('Price',axis=1)\n",
    "y = data['Price']"
   ]
  },
  {
   "cell_type": "code",
   "execution_count": 56,
   "id": "8c7c7293-1ff5-401b-b9d9-e7098b752657",
   "metadata": {},
   "outputs": [],
   "source": [
    "from sklearn.preprocessing import StandardScaler"
   ]
  },
  {
   "cell_type": "code",
   "execution_count": 58,
   "id": "7ccf786a-b8f2-4544-a7e4-adafe770c234",
   "metadata": {},
   "outputs": [],
   "source": [
    "scaler = StandardScaler()\n",
    "x_scaled= scaler.fit_transform(x)"
   ]
  },
  {
   "cell_type": "markdown",
   "id": "4d2711c8-c235-4c1b-90d5-58b1debf7391",
   "metadata": {},
   "source": [
    "11. What is the recommended approach for dividing the\n",
    "dataset into training and testing sets?"
   ]
  },
  {
   "cell_type": "code",
   "execution_count": 59,
   "id": "f538707a-6f76-47fa-8bc6-e7dcb8a849c9",
   "metadata": {},
   "outputs": [],
   "source": [
    "from sklearn.model_selection import train_test_split"
   ]
  },
  {
   "cell_type": "code",
   "execution_count": 61,
   "id": "2123bdf2-a840-4ae8-8c4f-ca2f8fd74d5e",
   "metadata": {},
   "outputs": [],
   "source": [
    "x_train,x_test,y_train,y_test = train_test_split(x_scaled,y,test_size=0.2)"
   ]
  },
  {
   "cell_type": "markdown",
   "id": "815cba80-31fa-40f7-9297-e6e2d2d7f394",
   "metadata": {},
   "source": [
    "12. Which machine learning model is most suitable for\n",
    "training the data, considering its characteristics?"
   ]
  },
  {
   "cell_type": "code",
   "execution_count": 62,
   "id": "142b2427-005e-4b76-80e0-102faee897c9",
   "metadata": {},
   "outputs": [],
   "source": [
    "from sklearn.linear_model import LinearRegression"
   ]
  },
  {
   "cell_type": "code",
   "execution_count": 63,
   "id": "d56f62bb-32ea-4b42-80c4-7d2d080c6ebe",
   "metadata": {},
   "outputs": [],
   "source": [
    "model=LinearRegression()"
   ]
  },
  {
   "cell_type": "code",
   "execution_count": 64,
   "id": "16a06c4a-d21e-4b02-958d-c9eca5e16104",
   "metadata": {},
   "outputs": [
    {
     "data": {
      "text/html": [
       "<style>#sk-container-id-1 {color: black;background-color: white;}#sk-container-id-1 pre{padding: 0;}#sk-container-id-1 div.sk-toggleable {background-color: white;}#sk-container-id-1 label.sk-toggleable__label {cursor: pointer;display: block;width: 100%;margin-bottom: 0;padding: 0.3em;box-sizing: border-box;text-align: center;}#sk-container-id-1 label.sk-toggleable__label-arrow:before {content: \"▸\";float: left;margin-right: 0.25em;color: #696969;}#sk-container-id-1 label.sk-toggleable__label-arrow:hover:before {color: black;}#sk-container-id-1 div.sk-estimator:hover label.sk-toggleable__label-arrow:before {color: black;}#sk-container-id-1 div.sk-toggleable__content {max-height: 0;max-width: 0;overflow: hidden;text-align: left;background-color: #f0f8ff;}#sk-container-id-1 div.sk-toggleable__content pre {margin: 0.2em;color: black;border-radius: 0.25em;background-color: #f0f8ff;}#sk-container-id-1 input.sk-toggleable__control:checked~div.sk-toggleable__content {max-height: 200px;max-width: 100%;overflow: auto;}#sk-container-id-1 input.sk-toggleable__control:checked~label.sk-toggleable__label-arrow:before {content: \"▾\";}#sk-container-id-1 div.sk-estimator input.sk-toggleable__control:checked~label.sk-toggleable__label {background-color: #d4ebff;}#sk-container-id-1 div.sk-label input.sk-toggleable__control:checked~label.sk-toggleable__label {background-color: #d4ebff;}#sk-container-id-1 input.sk-hidden--visually {border: 0;clip: rect(1px 1px 1px 1px);clip: rect(1px, 1px, 1px, 1px);height: 1px;margin: -1px;overflow: hidden;padding: 0;position: absolute;width: 1px;}#sk-container-id-1 div.sk-estimator {font-family: monospace;background-color: #f0f8ff;border: 1px dotted black;border-radius: 0.25em;box-sizing: border-box;margin-bottom: 0.5em;}#sk-container-id-1 div.sk-estimator:hover {background-color: #d4ebff;}#sk-container-id-1 div.sk-parallel-item::after {content: \"\";width: 100%;border-bottom: 1px solid gray;flex-grow: 1;}#sk-container-id-1 div.sk-label:hover label.sk-toggleable__label {background-color: #d4ebff;}#sk-container-id-1 div.sk-serial::before {content: \"\";position: absolute;border-left: 1px solid gray;box-sizing: border-box;top: 0;bottom: 0;left: 50%;z-index: 0;}#sk-container-id-1 div.sk-serial {display: flex;flex-direction: column;align-items: center;background-color: white;padding-right: 0.2em;padding-left: 0.2em;position: relative;}#sk-container-id-1 div.sk-item {position: relative;z-index: 1;}#sk-container-id-1 div.sk-parallel {display: flex;align-items: stretch;justify-content: center;background-color: white;position: relative;}#sk-container-id-1 div.sk-item::before, #sk-container-id-1 div.sk-parallel-item::before {content: \"\";position: absolute;border-left: 1px solid gray;box-sizing: border-box;top: 0;bottom: 0;left: 50%;z-index: -1;}#sk-container-id-1 div.sk-parallel-item {display: flex;flex-direction: column;z-index: 1;position: relative;background-color: white;}#sk-container-id-1 div.sk-parallel-item:first-child::after {align-self: flex-end;width: 50%;}#sk-container-id-1 div.sk-parallel-item:last-child::after {align-self: flex-start;width: 50%;}#sk-container-id-1 div.sk-parallel-item:only-child::after {width: 0;}#sk-container-id-1 div.sk-dashed-wrapped {border: 1px dashed gray;margin: 0 0.4em 0.5em 0.4em;box-sizing: border-box;padding-bottom: 0.4em;background-color: white;}#sk-container-id-1 div.sk-label label {font-family: monospace;font-weight: bold;display: inline-block;line-height: 1.2em;}#sk-container-id-1 div.sk-label-container {text-align: center;}#sk-container-id-1 div.sk-container {/* jupyter's `normalize.less` sets `[hidden] { display: none; }` but bootstrap.min.css set `[hidden] { display: none !important; }` so we also need the `!important` here to be able to override the default hidden behavior on the sphinx rendered scikit-learn.org. See: https://github.com/scikit-learn/scikit-learn/issues/21755 */display: inline-block !important;position: relative;}#sk-container-id-1 div.sk-text-repr-fallback {display: none;}</style><div id=\"sk-container-id-1\" class=\"sk-top-container\"><div class=\"sk-text-repr-fallback\"><pre>LinearRegression()</pre><b>In a Jupyter environment, please rerun this cell to show the HTML representation or trust the notebook. <br />On GitHub, the HTML representation is unable to render, please try loading this page with nbviewer.org.</b></div><div class=\"sk-container\" hidden><div class=\"sk-item\"><div class=\"sk-estimator sk-toggleable\"><input class=\"sk-toggleable__control sk-hidden--visually\" id=\"sk-estimator-id-1\" type=\"checkbox\" checked><label for=\"sk-estimator-id-1\" class=\"sk-toggleable__label sk-toggleable__label-arrow\">LinearRegression</label><div class=\"sk-toggleable__content\"><pre>LinearRegression()</pre></div></div></div></div></div>"
      ],
      "text/plain": [
       "LinearRegression()"
      ]
     },
     "execution_count": 64,
     "metadata": {},
     "output_type": "execute_result"
    }
   ],
   "source": [
    "model.fit(x_train,y_train)"
   ]
  },
  {
   "cell_type": "code",
   "execution_count": 65,
   "id": "80016c51-a120-49ef-94b8-c3f35d1a4463",
   "metadata": {},
   "outputs": [
    {
     "data": {
      "text/plain": [
       "0.6973308370313743"
      ]
     },
     "execution_count": 65,
     "metadata": {},
     "output_type": "execute_result"
    }
   ],
   "source": [
    "model.score(x_train,y_train)"
   ]
  },
  {
   "cell_type": "code",
   "execution_count": 66,
   "id": "2da539db-008d-4f55-8b8d-3341dd2a455a",
   "metadata": {},
   "outputs": [
    {
     "data": {
      "text/plain": [
       "0.5363619067145209"
      ]
     },
     "execution_count": 66,
     "metadata": {},
     "output_type": "execute_result"
    }
   ],
   "source": [
    "model.score(x_test,y_test)"
   ]
  },
  {
   "cell_type": "code",
   "execution_count": 67,
   "id": "30260d65-36f3-495f-8335-f33b0338d6ad",
   "metadata": {},
   "outputs": [],
   "source": [
    "from sklearn.tree import DecisionTreeRegressor\n",
    "from sklearn.ensemble import RandomForestRegressor\n",
    "from sklearn.svm import SVR\n",
    "from sklearn.neighbors import KNeighborsRegressor"
   ]
  },
  {
   "cell_type": "code",
   "execution_count": 68,
   "id": "4a649d00-95f4-45a2-9128-ea0fe8f89deb",
   "metadata": {},
   "outputs": [],
   "source": [
    "lis=[DecisionTreeRegressor,RandomForestRegressor,SVR,KNeighborsRegressor]"
   ]
  },
  {
   "cell_type": "code",
   "execution_count": 69,
   "id": "a5686ca2-ee6f-4373-899d-16e5c177ed1e",
   "metadata": {},
   "outputs": [
    {
     "name": "stdout",
     "output_type": "stream",
     "text": [
      "<class 'sklearn.tree._classes.DecisionTreeRegressor'>\n",
      "1.0\n",
      "0.0489151936876393\n",
      "<class 'sklearn.ensemble._forest.RandomForestRegressor'>\n",
      "0.9248780201412423\n",
      "0.43980134870179344\n",
      "<class 'sklearn.svm._classes.SVR'>\n",
      "-0.13153599412840067\n",
      "-0.09925356118615936\n",
      "<class 'sklearn.neighbors._regression.KNeighborsRegressor'>\n",
      "0.6260389971797109\n",
      "0.18340651514644546\n"
     ]
    }
   ],
   "source": [
    "for i in lis:\n",
    "    model = i()\n",
    "    model.fit(x_train,y_train)\n",
    "    print(i)\n",
    "    print(model.score(x_train,y_train))\n",
    "    print(model.score(x_test,y_test))"
   ]
  },
  {
   "cell_type": "code",
   "execution_count": 70,
   "id": "e0e17501-0782-459e-bb8a-6bbb75bb23c7",
   "metadata": {},
   "outputs": [],
   "source": [
    "from sklearn.model_selection import cross_val_score, KFold"
   ]
  },
  {
   "cell_type": "code",
   "execution_count": 71,
   "id": "40098a30-448c-4ebe-914c-e19b37eedc05",
   "metadata": {},
   "outputs": [
    {
     "data": {
      "text/plain": [
       "0.2696105947727301"
      ]
     },
     "execution_count": 71,
     "metadata": {},
     "output_type": "execute_result"
    }
   ],
   "source": [
    "cross_val_score(RandomForestRegressor(),x,y,cv=KFold(4)).mean()"
   ]
  },
  {
   "cell_type": "code",
   "execution_count": 72,
   "id": "bad372d1-a894-41fa-9844-cb9a6a8db8c0",
   "metadata": {},
   "outputs": [
    {
     "data": {
      "text/plain": [
       "0.011099439401425687"
      ]
     },
     "execution_count": 72,
     "metadata": {},
     "output_type": "execute_result"
    }
   ],
   "source": [
    "cross_val_score(DecisionTreeRegressor(),x,y,cv=KFold(4)).mean()"
   ]
  },
  {
   "cell_type": "code",
   "execution_count": 73,
   "id": "af41a4d3-2384-45b1-8995-834b321380a0",
   "metadata": {},
   "outputs": [
    {
     "data": {
      "text/plain": [
       "-0.06786515947216748"
      ]
     },
     "execution_count": 73,
     "metadata": {},
     "output_type": "execute_result"
    }
   ],
   "source": [
    "cross_val_score(KNeighborsRegressor(),x,y,cv=KFold(4)).mean()"
   ]
  },
  {
   "cell_type": "code",
   "execution_count": 75,
   "id": "aa805911-5ccd-4663-94d1-7f933ff7d75b",
   "metadata": {},
   "outputs": [
    {
     "data": {
      "text/plain": [
       "0.13902202279858694"
      ]
     },
     "execution_count": 75,
     "metadata": {},
     "output_type": "execute_result"
    }
   ],
   "source": [
    "cross_val_score(LinearRegression(),x,y,cv=KFold(4)).mean()"
   ]
  },
  {
   "cell_type": "markdown",
   "id": "5ede6cf4-b271-484b-a28e-7cde574a5d76",
   "metadata": {},
   "source": [
    "--> As we can see Random forest is performing better."
   ]
  },
  {
   "cell_type": "markdown",
   "id": "81a78e27-0029-4f48-ac1a-683f8f059fce",
   "metadata": {},
   "source": [
    "13. How can the accuracy of the trained model be evaluated\n",
    "to determine its effectiveness?"
   ]
  },
  {
   "cell_type": "markdown",
   "id": "74519272-1df2-4e94-bcbb-3fdb1a8ed64e",
   "metadata": {},
   "source": [
    "accuracy can be evaluted by the maen absolute error and mean square error"
   ]
  },
  {
   "cell_type": "code",
   "execution_count": 77,
   "id": "09193cca-487b-440b-9c22-4076d2446188",
   "metadata": {},
   "outputs": [],
   "source": [
    "model=RandomForestRegressor()"
   ]
  },
  {
   "cell_type": "code",
   "execution_count": 78,
   "id": "a9641565-7c9d-435f-8cae-c6f4f0635917",
   "metadata": {},
   "outputs": [
    {
     "data": {
      "text/plain": [
       "0.9200237406824966"
      ]
     },
     "execution_count": 78,
     "metadata": {},
     "output_type": "execute_result"
    }
   ],
   "source": [
    "model.fit(x_train,y_train)\n",
    "model.score(x_train,y_train)"
   ]
  },
  {
   "cell_type": "code",
   "execution_count": 79,
   "id": "a0f30f3e-77bb-470a-82fd-866b53d1866b",
   "metadata": {},
   "outputs": [
    {
     "data": {
      "text/plain": [
       "0.4215366763935061"
      ]
     },
     "execution_count": 79,
     "metadata": {},
     "output_type": "execute_result"
    }
   ],
   "source": [
    "model.score(x_test,y_test)"
   ]
  },
  {
   "cell_type": "code",
   "execution_count": 80,
   "id": "ccb244b1-2226-4b38-a2c0-0ff9d0b63c0a",
   "metadata": {},
   "outputs": [],
   "source": [
    "parameters={\"n_estimators\":[100,200,300,400],\n",
    "            \"max_depth\":[2,3,4],\n",
    "            \"random_state\":[20,30,40,50],\n",
    "            \"max_features\":[\"auto\",\"sqrt\",\"log2\"]}"
   ]
  },
  {
   "cell_type": "code",
   "execution_count": 81,
   "id": "1cee4c8a-7ba0-427f-86b3-665b29f2223b",
   "metadata": {},
   "outputs": [],
   "source": [
    "from sklearn.model_selection import RandomizedSearchCV"
   ]
  },
  {
   "cell_type": "code",
   "execution_count": 82,
   "id": "34b2f4b0-7b90-4438-8e06-ce0aa03cb0da",
   "metadata": {},
   "outputs": [],
   "source": [
    "grid=RandomizedSearchCV(model,param_distributions=parameters,n_iter=50, cv=KFold(4))"
   ]
  },
  {
   "cell_type": "code",
   "execution_count": null,
   "id": "e8031279-cf5d-4e82-bb17-a9b90769d7ca",
   "metadata": {},
   "outputs": [
    {
     "name": "stderr",
     "output_type": "stream",
     "text": [
      "C:\\ProgramData\\anaconda3\\Lib\\site-packages\\sklearn\\ensemble\\_forest.py:413: FutureWarning: `max_features='auto'` has been deprecated in 1.1 and will be removed in 1.3. To keep the past behaviour, explicitly set `max_features=1.0` or remove this parameter as it is also the default value for RandomForestRegressors and ExtraTreesRegressors.\n",
      "  warn(\n",
      "C:\\ProgramData\\anaconda3\\Lib\\site-packages\\sklearn\\ensemble\\_forest.py:413: FutureWarning: `max_features='auto'` has been deprecated in 1.1 and will be removed in 1.3. To keep the past behaviour, explicitly set `max_features=1.0` or remove this parameter as it is also the default value for RandomForestRegressors and ExtraTreesRegressors.\n",
      "  warn(\n",
      "C:\\ProgramData\\anaconda3\\Lib\\site-packages\\sklearn\\ensemble\\_forest.py:413: FutureWarning: `max_features='auto'` has been deprecated in 1.1 and will be removed in 1.3. To keep the past behaviour, explicitly set `max_features=1.0` or remove this parameter as it is also the default value for RandomForestRegressors and ExtraTreesRegressors.\n",
      "  warn(\n",
      "C:\\ProgramData\\anaconda3\\Lib\\site-packages\\sklearn\\ensemble\\_forest.py:413: FutureWarning: `max_features='auto'` has been deprecated in 1.1 and will be removed in 1.3. To keep the past behaviour, explicitly set `max_features=1.0` or remove this parameter as it is also the default value for RandomForestRegressors and ExtraTreesRegressors.\n",
      "  warn(\n",
      "C:\\ProgramData\\anaconda3\\Lib\\site-packages\\sklearn\\ensemble\\_forest.py:413: FutureWarning: `max_features='auto'` has been deprecated in 1.1 and will be removed in 1.3. To keep the past behaviour, explicitly set `max_features=1.0` or remove this parameter as it is also the default value for RandomForestRegressors and ExtraTreesRegressors.\n",
      "  warn(\n",
      "C:\\ProgramData\\anaconda3\\Lib\\site-packages\\sklearn\\ensemble\\_forest.py:413: FutureWarning: `max_features='auto'` has been deprecated in 1.1 and will be removed in 1.3. To keep the past behaviour, explicitly set `max_features=1.0` or remove this parameter as it is also the default value for RandomForestRegressors and ExtraTreesRegressors.\n",
      "  warn(\n",
      "C:\\ProgramData\\anaconda3\\Lib\\site-packages\\sklearn\\ensemble\\_forest.py:413: FutureWarning: `max_features='auto'` has been deprecated in 1.1 and will be removed in 1.3. To keep the past behaviour, explicitly set `max_features=1.0` or remove this parameter as it is also the default value for RandomForestRegressors and ExtraTreesRegressors.\n",
      "  warn(\n",
      "C:\\ProgramData\\anaconda3\\Lib\\site-packages\\sklearn\\ensemble\\_forest.py:413: FutureWarning: `max_features='auto'` has been deprecated in 1.1 and will be removed in 1.3. To keep the past behaviour, explicitly set `max_features=1.0` or remove this parameter as it is also the default value for RandomForestRegressors and ExtraTreesRegressors.\n",
      "  warn(\n",
      "C:\\ProgramData\\anaconda3\\Lib\\site-packages\\sklearn\\ensemble\\_forest.py:413: FutureWarning: `max_features='auto'` has been deprecated in 1.1 and will be removed in 1.3. To keep the past behaviour, explicitly set `max_features=1.0` or remove this parameter as it is also the default value for RandomForestRegressors and ExtraTreesRegressors.\n",
      "  warn(\n",
      "C:\\ProgramData\\anaconda3\\Lib\\site-packages\\sklearn\\ensemble\\_forest.py:413: FutureWarning: `max_features='auto'` has been deprecated in 1.1 and will be removed in 1.3. To keep the past behaviour, explicitly set `max_features=1.0` or remove this parameter as it is also the default value for RandomForestRegressors and ExtraTreesRegressors.\n",
      "  warn(\n",
      "C:\\ProgramData\\anaconda3\\Lib\\site-packages\\sklearn\\ensemble\\_forest.py:413: FutureWarning: `max_features='auto'` has been deprecated in 1.1 and will be removed in 1.3. To keep the past behaviour, explicitly set `max_features=1.0` or remove this parameter as it is also the default value for RandomForestRegressors and ExtraTreesRegressors.\n",
      "  warn(\n",
      "C:\\ProgramData\\anaconda3\\Lib\\site-packages\\sklearn\\ensemble\\_forest.py:413: FutureWarning: `max_features='auto'` has been deprecated in 1.1 and will be removed in 1.3. To keep the past behaviour, explicitly set `max_features=1.0` or remove this parameter as it is also the default value for RandomForestRegressors and ExtraTreesRegressors.\n",
      "  warn(\n",
      "C:\\ProgramData\\anaconda3\\Lib\\site-packages\\sklearn\\ensemble\\_forest.py:413: FutureWarning: `max_features='auto'` has been deprecated in 1.1 and will be removed in 1.3. To keep the past behaviour, explicitly set `max_features=1.0` or remove this parameter as it is also the default value for RandomForestRegressors and ExtraTreesRegressors.\n",
      "  warn(\n",
      "C:\\ProgramData\\anaconda3\\Lib\\site-packages\\sklearn\\ensemble\\_forest.py:413: FutureWarning: `max_features='auto'` has been deprecated in 1.1 and will be removed in 1.3. To keep the past behaviour, explicitly set `max_features=1.0` or remove this parameter as it is also the default value for RandomForestRegressors and ExtraTreesRegressors.\n",
      "  warn(\n",
      "C:\\ProgramData\\anaconda3\\Lib\\site-packages\\sklearn\\ensemble\\_forest.py:413: FutureWarning: `max_features='auto'` has been deprecated in 1.1 and will be removed in 1.3. To keep the past behaviour, explicitly set `max_features=1.0` or remove this parameter as it is also the default value for RandomForestRegressors and ExtraTreesRegressors.\n",
      "  warn(\n",
      "C:\\ProgramData\\anaconda3\\Lib\\site-packages\\sklearn\\ensemble\\_forest.py:413: FutureWarning: `max_features='auto'` has been deprecated in 1.1 and will be removed in 1.3. To keep the past behaviour, explicitly set `max_features=1.0` or remove this parameter as it is also the default value for RandomForestRegressors and ExtraTreesRegressors.\n",
      "  warn(\n",
      "C:\\ProgramData\\anaconda3\\Lib\\site-packages\\sklearn\\ensemble\\_forest.py:413: FutureWarning: `max_features='auto'` has been deprecated in 1.1 and will be removed in 1.3. To keep the past behaviour, explicitly set `max_features=1.0` or remove this parameter as it is also the default value for RandomForestRegressors and ExtraTreesRegressors.\n",
      "  warn(\n",
      "C:\\ProgramData\\anaconda3\\Lib\\site-packages\\sklearn\\ensemble\\_forest.py:413: FutureWarning: `max_features='auto'` has been deprecated in 1.1 and will be removed in 1.3. To keep the past behaviour, explicitly set `max_features=1.0` or remove this parameter as it is also the default value for RandomForestRegressors and ExtraTreesRegressors.\n",
      "  warn(\n",
      "C:\\ProgramData\\anaconda3\\Lib\\site-packages\\sklearn\\ensemble\\_forest.py:413: FutureWarning: `max_features='auto'` has been deprecated in 1.1 and will be removed in 1.3. To keep the past behaviour, explicitly set `max_features=1.0` or remove this parameter as it is also the default value for RandomForestRegressors and ExtraTreesRegressors.\n",
      "  warn(\n",
      "C:\\ProgramData\\anaconda3\\Lib\\site-packages\\sklearn\\ensemble\\_forest.py:413: FutureWarning: `max_features='auto'` has been deprecated in 1.1 and will be removed in 1.3. To keep the past behaviour, explicitly set `max_features=1.0` or remove this parameter as it is also the default value for RandomForestRegressors and ExtraTreesRegressors.\n",
      "  warn(\n",
      "C:\\ProgramData\\anaconda3\\Lib\\site-packages\\sklearn\\ensemble\\_forest.py:413: FutureWarning: `max_features='auto'` has been deprecated in 1.1 and will be removed in 1.3. To keep the past behaviour, explicitly set `max_features=1.0` or remove this parameter as it is also the default value for RandomForestRegressors and ExtraTreesRegressors.\n",
      "  warn(\n",
      "C:\\ProgramData\\anaconda3\\Lib\\site-packages\\sklearn\\ensemble\\_forest.py:413: FutureWarning: `max_features='auto'` has been deprecated in 1.1 and will be removed in 1.3. To keep the past behaviour, explicitly set `max_features=1.0` or remove this parameter as it is also the default value for RandomForestRegressors and ExtraTreesRegressors.\n",
      "  warn(\n",
      "C:\\ProgramData\\anaconda3\\Lib\\site-packages\\sklearn\\ensemble\\_forest.py:413: FutureWarning: `max_features='auto'` has been deprecated in 1.1 and will be removed in 1.3. To keep the past behaviour, explicitly set `max_features=1.0` or remove this parameter as it is also the default value for RandomForestRegressors and ExtraTreesRegressors.\n",
      "  warn(\n",
      "C:\\ProgramData\\anaconda3\\Lib\\site-packages\\sklearn\\ensemble\\_forest.py:413: FutureWarning: `max_features='auto'` has been deprecated in 1.1 and will be removed in 1.3. To keep the past behaviour, explicitly set `max_features=1.0` or remove this parameter as it is also the default value for RandomForestRegressors and ExtraTreesRegressors.\n",
      "  warn(\n",
      "C:\\ProgramData\\anaconda3\\Lib\\site-packages\\sklearn\\ensemble\\_forest.py:413: FutureWarning: `max_features='auto'` has been deprecated in 1.1 and will be removed in 1.3. To keep the past behaviour, explicitly set `max_features=1.0` or remove this parameter as it is also the default value for RandomForestRegressors and ExtraTreesRegressors.\n",
      "  warn(\n",
      "C:\\ProgramData\\anaconda3\\Lib\\site-packages\\sklearn\\ensemble\\_forest.py:413: FutureWarning: `max_features='auto'` has been deprecated in 1.1 and will be removed in 1.3. To keep the past behaviour, explicitly set `max_features=1.0` or remove this parameter as it is also the default value for RandomForestRegressors and ExtraTreesRegressors.\n",
      "  warn(\n",
      "C:\\ProgramData\\anaconda3\\Lib\\site-packages\\sklearn\\ensemble\\_forest.py:413: FutureWarning: `max_features='auto'` has been deprecated in 1.1 and will be removed in 1.3. To keep the past behaviour, explicitly set `max_features=1.0` or remove this parameter as it is also the default value for RandomForestRegressors and ExtraTreesRegressors.\n",
      "  warn(\n",
      "C:\\ProgramData\\anaconda3\\Lib\\site-packages\\sklearn\\ensemble\\_forest.py:413: FutureWarning: `max_features='auto'` has been deprecated in 1.1 and will be removed in 1.3. To keep the past behaviour, explicitly set `max_features=1.0` or remove this parameter as it is also the default value for RandomForestRegressors and ExtraTreesRegressors.\n",
      "  warn(\n",
      "C:\\ProgramData\\anaconda3\\Lib\\site-packages\\sklearn\\ensemble\\_forest.py:413: FutureWarning: `max_features='auto'` has been deprecated in 1.1 and will be removed in 1.3. To keep the past behaviour, explicitly set `max_features=1.0` or remove this parameter as it is also the default value for RandomForestRegressors and ExtraTreesRegressors.\n",
      "  warn(\n",
      "C:\\ProgramData\\anaconda3\\Lib\\site-packages\\sklearn\\ensemble\\_forest.py:413: FutureWarning: `max_features='auto'` has been deprecated in 1.1 and will be removed in 1.3. To keep the past behaviour, explicitly set `max_features=1.0` or remove this parameter as it is also the default value for RandomForestRegressors and ExtraTreesRegressors.\n",
      "  warn(\n",
      "C:\\ProgramData\\anaconda3\\Lib\\site-packages\\sklearn\\ensemble\\_forest.py:413: FutureWarning: `max_features='auto'` has been deprecated in 1.1 and will be removed in 1.3. To keep the past behaviour, explicitly set `max_features=1.0` or remove this parameter as it is also the default value for RandomForestRegressors and ExtraTreesRegressors.\n",
      "  warn(\n",
      "C:\\ProgramData\\anaconda3\\Lib\\site-packages\\sklearn\\ensemble\\_forest.py:413: FutureWarning: `max_features='auto'` has been deprecated in 1.1 and will be removed in 1.3. To keep the past behaviour, explicitly set `max_features=1.0` or remove this parameter as it is also the default value for RandomForestRegressors and ExtraTreesRegressors.\n",
      "  warn(\n",
      "C:\\ProgramData\\anaconda3\\Lib\\site-packages\\sklearn\\ensemble\\_forest.py:413: FutureWarning: `max_features='auto'` has been deprecated in 1.1 and will be removed in 1.3. To keep the past behaviour, explicitly set `max_features=1.0` or remove this parameter as it is also the default value for RandomForestRegressors and ExtraTreesRegressors.\n",
      "  warn(\n",
      "C:\\ProgramData\\anaconda3\\Lib\\site-packages\\sklearn\\ensemble\\_forest.py:413: FutureWarning: `max_features='auto'` has been deprecated in 1.1 and will be removed in 1.3. To keep the past behaviour, explicitly set `max_features=1.0` or remove this parameter as it is also the default value for RandomForestRegressors and ExtraTreesRegressors.\n",
      "  warn(\n",
      "C:\\ProgramData\\anaconda3\\Lib\\site-packages\\sklearn\\ensemble\\_forest.py:413: FutureWarning: `max_features='auto'` has been deprecated in 1.1 and will be removed in 1.3. To keep the past behaviour, explicitly set `max_features=1.0` or remove this parameter as it is also the default value for RandomForestRegressors and ExtraTreesRegressors.\n",
      "  warn(\n",
      "C:\\ProgramData\\anaconda3\\Lib\\site-packages\\sklearn\\ensemble\\_forest.py:413: FutureWarning: `max_features='auto'` has been deprecated in 1.1 and will be removed in 1.3. To keep the past behaviour, explicitly set `max_features=1.0` or remove this parameter as it is also the default value for RandomForestRegressors and ExtraTreesRegressors.\n",
      "  warn(\n",
      "C:\\ProgramData\\anaconda3\\Lib\\site-packages\\sklearn\\ensemble\\_forest.py:413: FutureWarning: `max_features='auto'` has been deprecated in 1.1 and will be removed in 1.3. To keep the past behaviour, explicitly set `max_features=1.0` or remove this parameter as it is also the default value for RandomForestRegressors and ExtraTreesRegressors.\n",
      "  warn(\n",
      "C:\\ProgramData\\anaconda3\\Lib\\site-packages\\sklearn\\ensemble\\_forest.py:413: FutureWarning: `max_features='auto'` has been deprecated in 1.1 and will be removed in 1.3. To keep the past behaviour, explicitly set `max_features=1.0` or remove this parameter as it is also the default value for RandomForestRegressors and ExtraTreesRegressors.\n",
      "  warn(\n",
      "C:\\ProgramData\\anaconda3\\Lib\\site-packages\\sklearn\\ensemble\\_forest.py:413: FutureWarning: `max_features='auto'` has been deprecated in 1.1 and will be removed in 1.3. To keep the past behaviour, explicitly set `max_features=1.0` or remove this parameter as it is also the default value for RandomForestRegressors and ExtraTreesRegressors.\n",
      "  warn(\n",
      "C:\\ProgramData\\anaconda3\\Lib\\site-packages\\sklearn\\ensemble\\_forest.py:413: FutureWarning: `max_features='auto'` has been deprecated in 1.1 and will be removed in 1.3. To keep the past behaviour, explicitly set `max_features=1.0` or remove this parameter as it is also the default value for RandomForestRegressors and ExtraTreesRegressors.\n",
      "  warn(\n",
      "C:\\ProgramData\\anaconda3\\Lib\\site-packages\\sklearn\\ensemble\\_forest.py:413: FutureWarning: `max_features='auto'` has been deprecated in 1.1 and will be removed in 1.3. To keep the past behaviour, explicitly set `max_features=1.0` or remove this parameter as it is also the default value for RandomForestRegressors and ExtraTreesRegressors.\n",
      "  warn(\n",
      "C:\\ProgramData\\anaconda3\\Lib\\site-packages\\sklearn\\ensemble\\_forest.py:413: FutureWarning: `max_features='auto'` has been deprecated in 1.1 and will be removed in 1.3. To keep the past behaviour, explicitly set `max_features=1.0` or remove this parameter as it is also the default value for RandomForestRegressors and ExtraTreesRegressors.\n",
      "  warn(\n",
      "C:\\ProgramData\\anaconda3\\Lib\\site-packages\\sklearn\\ensemble\\_forest.py:413: FutureWarning: `max_features='auto'` has been deprecated in 1.1 and will be removed in 1.3. To keep the past behaviour, explicitly set `max_features=1.0` or remove this parameter as it is also the default value for RandomForestRegressors and ExtraTreesRegressors.\n",
      "  warn(\n",
      "C:\\ProgramData\\anaconda3\\Lib\\site-packages\\sklearn\\ensemble\\_forest.py:413: FutureWarning: `max_features='auto'` has been deprecated in 1.1 and will be removed in 1.3. To keep the past behaviour, explicitly set `max_features=1.0` or remove this parameter as it is also the default value for RandomForestRegressors and ExtraTreesRegressors.\n",
      "  warn(\n"
     ]
    }
   ],
   "source": [
    "grid.fit(x,y)\n",
    "import warnings"
   ]
  },
  {
   "cell_type": "code",
   "execution_count": null,
   "id": "72b22aee-8767-46b5-8d24-f83bfd82b958",
   "metadata": {},
   "outputs": [],
   "source": [
    "grid.best_score_"
   ]
  },
  {
   "cell_type": "code",
   "execution_count": null,
   "id": "b2e8d937-b625-46a6-8c52-c35d318810b3",
   "metadata": {},
   "outputs": [],
   "source": [
    "grid.best_params_"
   ]
  },
  {
   "cell_type": "code",
   "execution_count": null,
   "id": "88485cf2-9013-4c9a-81ed-287d577548d6",
   "metadata": {},
   "outputs": [],
   "source": []
  }
 ],
 "metadata": {
  "kernelspec": {
   "display_name": "Python 3 (ipykernel)",
   "language": "python",
   "name": "python3"
  },
  "language_info": {
   "codemirror_mode": {
    "name": "ipython",
    "version": 3
   },
   "file_extension": ".py",
   "mimetype": "text/x-python",
   "name": "python",
   "nbconvert_exporter": "python",
   "pygments_lexer": "ipython3",
   "version": "3.11.7"
  }
 },
 "nbformat": 4,
 "nbformat_minor": 5
}
